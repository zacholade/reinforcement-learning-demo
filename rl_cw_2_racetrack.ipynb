{
 "cells": [
  {
   "cell_type": "markdown",
   "metadata": {
    "deletable": false,
    "editable": false,
    "nbgrader": {
     "cell_type": "markdown",
     "checksum": "7b0cd8cbdb123e6e479eb50726500d82",
     "grade": false,
     "grade_id": "cell-b0b3b6b4f891b031",
     "locked": true,
     "schema_version": 3,
     "solution": false,
     "task": false
    }
   },
   "source": [
    "This is a revised version of Programming Assignment 2 for CM50270: Reinforcement Learning \n",
    "\n",
    "Revision Date: 09/03/2021 <br>\n",
    "Reason for Revision: Student Feedback\n",
    "\n",
    "Changes from the original version:\n",
    "- Total time limit increased from 8 minutes to 10 minutes. \n",
    "- Minimum number of agents averaged in Exercise 5 decreased from 20 to 2.\n",
    "\n",
    "# CM50270 Reinforcement Learning\n",
    "## Coursework Part 2: Racetrack\n",
    "\n",
    "In this exercise, you will implement and compare the performance of three reinforcement learning algorithms: On-Policy First-Visit Monte-Carlo Control, Sarsa, and Q-Learning.\n",
    "\n",
    "**Total number of marks:** 40 marks.\n",
    "\n",
    "**What to submit:** Your completed Jupyter notebook (.ipynb file) which should include **all** of your source code. Please **do not change the file name or compress/zip your submission**. Please do not include any identifying information on the files you submit. This coursework will be marked **anonymously**.\n",
    "\n",
    "**Where to submit:** CM50270 Moodle Page.\n",
    "\n",
    "You are required to **work individually**. You are welcome to discuss ideas with others but you must design your own implementation and **write your own code**.\n",
    "\n",
    "**Do not plagiarise**. Plagiarism is a serious academic offence. For details on what plagiarism is and how to avoid it, please visit the following webpage: http://www.bath.ac.uk/library/help/infoguides/plagiarism.html\n",
    "\n",
    "If you are asked to use specific variable names, data-types, function signatures and notebook cells, **please ensure that you follow these instructions**. Not doing so will cause the automarker to reject your work, and will assign you a score of zero for that question. **If the automarker rejects your work because you have not followed the instructions, you may not get any credit for your work**.\n",
    "\n",
    "Please **do not use any non-standard, third-party libraries** apart from numpy and matplotlib. In this part of the coursework, you should also use the `racetrack_env` file, which we have provided for you. **If we are unable to run your code because you have used unsupported external libraries, you may not get any credit for your work.**\n",
    "\n",
    "Please remember to **save your work regularly**.\n",
    "\n",
    "Please be sure to **restart the kernel and run your code from start-to-finish** (Kernel → Restart & Run All) before submitting your notebook. Otherwise, you may not be aware that you are using variables in memory that you have deleted.\n",
    "\n",
    "Your total runtime must be less than **10 minutes** on the University's computers, and **written answer length limits** must be adhered to. Otherwise, you may not get credit for your work. You can run your code on the university's computers remotely using [UniDesk](https://bath.topdesk.net/tas/public/ssp/content/detail/knowledgeitem?unid=ff3266344c1d4eb2acb227cc9e3e1eee)"
   ]
  },
  {
   "cell_type": "markdown",
   "metadata": {
    "deletable": false,
    "editable": false,
    "nbgrader": {
     "cell_type": "markdown",
     "checksum": "a7856ff29e071bdac08f1695a7470eb9",
     "grade": false,
     "grade_id": "cell-e86e35a4b405ff32",
     "locked": true,
     "schema_version": 3,
     "solution": false,
     "task": false
    }
   },
   "source": [
    "## The Racetrack Environment\n",
    "We have implemented a custom environment called \"Racetrack\" for you to use during this piece of coursework. It is inspired by the environment described in the course textbook (Reinforcement Learning, Sutton & Barto, 2018, Exercise 5.12), but is not exactly the same.\n",
    "\n",
    "### Environment Description\n",
    "Consider driving a race car around a turn on a racetrack. In order to complete the race as quickly as possible, you would want to drive as fast as you can but, to avoid running off the track, you must slow down while turning.\n",
    "\n",
    "In our simplified racetrack environment, the agent is at one of a discrete set of grid positions. The agent also has a discrete speed in two directions, $x$ and $y$. So the state is represented as follows:\n",
    "$$(\\text{position}_y, \\text{position}_x, \\text{velocity}_y, \\text{velocity}_x)$$\n",
    "\n",
    "The agent collects a reward of -1 at each time step, an additional -10 for leaving the track (i.e., ending up on a black grid square in the figure below), and an additional +10 for reaching the finish line (any of the red grid squares). The agent starts each episode in a randomly selected  grid-square on the starting line (green grid squares) with a speed of zero in both directions. At each time step, the agent can change its speed in both directions. Each speed can be changed by +1, -1 or 0, giving a total of nine actions. For example, the agent may increase its speed in the $x$ direction by -1 and its speed in the $y$ direction by +1. The agent's speed cannot be greater than +10 or less than -10 in either direction.\n",
    "\n",
    "<img src=\"images/track_big.png\" style=\"width: 600px;\"/>\n",
    "\n",
    "\n",
    "The agent's next state is determined by its current grid square, its current speed in two directions, and the changes it  makes to its speed in the two directions. This environment is stochastic. When the agent tries to change its speed, no change occurs (in either direction) with probability 0.2. In other words, 20% of the time, the agent's action is ignored and the car's speed remains the same in both directions.\n",
    "\n",
    "If the agent leaves the track, it is returned to a random start grid-square and has its speed set to zero in both directions; the episode continues. An episode ends only when the agent transitions to a goal grid-square.\n",
    "\n",
    "\n",
    "\n",
    "### Environment Implementation\n",
    "We have implemented the above environment in the `racetrack_env.py` file, for you to use in this coursework. Please use this implementation instead of writing your own, and please do not modify the environment.\n",
    "\n",
    "We provide a `RacetrackEnv` class for your agents to interact with. The class has the following methods:\n",
    "- **`reset()`** - this method initialises the environment, chooses a random starting state, and returns it. This method should be called before the start of every episode.\n",
    "- **`step(action)`** - this method takes an integer action (more on this later), and executes one time-step in the environment. It returns a tuple containing the next state, the reward collected, and whether the next state is a terminal state.\n",
    "- **`render(sleep_time)`** - this method renders a matplotlib graph representing the environment. It takes an optional float parameter giving the number of seconds to display each time-step. This method is useful for testing and debugging, but should not be used during training since it is *very* slow. **Do not use this method in your final submission**.\n",
    "- **`get_actions()`** - a simple method that returns the available actions in the current state. Always returns a list containing integers in the range [0-8] (more on this later).\n",
    "\n",
    "In our code, states are represented as Python tuples - specifically a tuple of four integers. For example, if the agent is in a grid square with coordinates ($Y = 2$, $X = 3$), and is moving zero cells vertically and one cell horizontally per time-step, the state is represented as `(2, 3, 0, 1)`. Tuples of this kind will be returned by the `reset()` and `step(action)` methods.\n",
    "\n",
    "There are nine actions available to the agent in each state, as described above. However, to simplify your code, we have represented each of the nine actions as an integer in the range [0-8]. The table below shows the index of each action, along with the corresponding changes it will cause to the agent's speed in each direction.\n",
    "\n",
    "<img src=\"images/action_grid.png\" style=\"width: 250px;\"/>\n",
    "\n",
    "For example, taking action 8 will increase the agent's speed in the $x$ direction, but decrease its speed in the $y$ direction."
   ]
  },
  {
   "cell_type": "markdown",
   "metadata": {
    "deletable": false,
    "editable": false,
    "nbgrader": {
     "cell_type": "markdown",
     "checksum": "e4714ee739adca912176564b3eb00229",
     "grade": false,
     "grade_id": "cell-30ac99abe97e62b8",
     "locked": true,
     "schema_version": 3,
     "solution": false,
     "task": false
    }
   },
   "source": [
    "### Racetrack Code Example\n",
    "Below, we go through a quick example of using the `RaceTrackEnv` class.\n",
    "\n",
    "First, we import the class, then create a `RaceTrackEnv` object called `env`. We then initialise the environment using the `reset()` method, and take a look at the initial state variable and the result of `plot()`.\n"
   ]
  },
  {
   "cell_type": "code",
   "execution_count": 1,
   "metadata": {
    "deletable": false,
    "editable": false,
    "nbgrader": {
     "cell_type": "code",
     "checksum": "0ac22a56ca4687400306302c35b75a91",
     "grade": false,
     "grade_id": "cell-77add459a6f282dd",
     "locked": true,
     "schema_version": 3,
     "solution": false,
     "task": false
    }
   },
   "outputs": [
    {
     "data": {
      "image/png": "[encoded data removed]",
      "text/plain": [
       "<Figure size 432x288 with 1 Axes>"
      ]
     },
     "metadata": {
      "needs_background": "light"
     },
     "output_type": "display_data"
    },
    {
     "name": "stdout",
     "output_type": "stream",
     "text": [
      "Initial State: (1, 3, 0, 0)\n"
     ]
    }
   ],
   "source": [
    "%matplotlib inline\n",
    "\n",
    "# Set random seed to make example reproducable.\n",
    "import numpy as np\n",
    "import random\n",
    "seed = 5\n",
    "random.seed(seed)\n",
    "np.random.seed(seed)\n",
    "\n",
    "from racetrack_env import RacetrackEnv\n",
    "\n",
    "# Instantiate environment object.\n",
    "env = RacetrackEnv()\n",
    "\n",
    "# Initialise/reset environment.\n",
    "state = env.reset()\n",
    "env.render()\n",
    "print(\"Initial State: {}\".format(state))"
   ]
  },
  {
   "cell_type": "markdown",
   "metadata": {
    "deletable": false,
    "editable": false,
    "nbgrader": {
     "cell_type": "markdown",
     "checksum": "cf70e6e3c9fe761473c11366c91f40ff",
     "grade": false,
     "grade_id": "cell-b42bead8118e3c9e",
     "locked": true,
     "schema_version": 3,
     "solution": false,
     "task": false
    }
   },
   "source": [
    "As you can see, `reset()` has returned a valid initial state as a four-tuple. The function `plot()` uses the same colour-scheme as described above, but also includes a yellow grid-square to indicate the current position of the agent.\n",
    "\n",
    "Let's make the agent go upward by using `step(1)`, then inspect the result (recall that action `1` increments the agent's vertical speed while leaving the agent's horizontal speed unchanged)."
   ]
  },
  {
   "cell_type": "code",
   "execution_count": 2,
   "metadata": {
    "deletable": false,
    "editable": false,
    "nbgrader": {
     "cell_type": "code",
     "checksum": "409bb221e1080a4a02e52db851d6dc86",
     "grade": false,
     "grade_id": "cell-8cb86c18bf331894",
     "locked": true,
     "schema_version": 3,
     "solution": false,
     "task": false
    }
   },
   "outputs": [
    {
     "data": {
      "image/png": "[encoded data removed]",
      "text/plain": [
       "<Figure size 432x288 with 1 Axes>"
      ]
     },
     "metadata": {
      "needs_background": "light"
     },
     "output_type": "display_data"
    },
    {
     "name": "stdout",
     "output_type": "stream",
     "text": [
      "Next State: (2, 3, 1, 0), Reward: -1, Terminal: False\n"
     ]
    }
   ],
   "source": [
    "# Let us increase the agent's vertical speed (action 1).\n",
    "next_state, reward, terminal = env.step(1)\n",
    "env.render()\n",
    "print(\"Next State: {}, Reward: {}, Terminal: {}\".format(next_state, reward, terminal))"
   ]
  },
  {
   "cell_type": "markdown",
   "metadata": {
    "deletable": false,
    "editable": false,
    "nbgrader": {
     "cell_type": "markdown",
     "checksum": "a68773faf856fac19dc863fe5e3b01f4",
     "grade": false,
     "grade_id": "cell-4f51e890424d0c2d",
     "locked": true,
     "schema_version": 3,
     "solution": false,
     "task": false
    }
   },
   "source": [
    "You can see that the agent has moved one square upwards, and now has a positive vertical speed (indicated by the yellow arrow). Let's set up a loop to see what happens if we take the action a few more times, causing it to repeatedly leave the track."
   ]
  },
  {
   "cell_type": "code",
   "execution_count": 3,
   "metadata": {
    "deletable": false,
    "editable": false,
    "nbgrader": {
     "cell_type": "code",
     "checksum": "50931f73b836a9941366a8e8b67805a2",
     "grade": false,
     "grade_id": "cell-ef8865037a9ebdeb",
     "locked": true,
     "schema_version": 3,
     "solution": false,
     "task": false
    }
   },
   "outputs": [
    {
     "data": {
      "image/png": "[encoded data removed]",
      "text/plain": [
       "<Figure size 432x288 with 1 Axes>"
      ]
     },
     "metadata": {
      "needs_background": "light"
     },
     "output_type": "display_data"
    }
   ],
   "source": [
    "num_steps = 50\n",
    "for t in range(num_steps) :\n",
    "    next_state, reward, terminal = env.step(1)\n",
    "    env.render()"
   ]
  },
  {
   "cell_type": "markdown",
   "metadata": {
    "deletable": false,
    "editable": false,
    "nbgrader": {
     "cell_type": "markdown",
     "checksum": "c8fb592095ac2f2862e95c01cf63fe44",
     "grade": false,
     "grade_id": "cell-a21a5643628d8354",
     "locked": true,
     "schema_version": 3,
     "solution": false,
     "task": false
    }
   },
   "source": [
    "## Exercise 1: On-Policy MC Control (8 Marks)\n",
    "\n",
    "In this exercise, you will implement an agent which learns to reach a goal state in the racetrack task using On-Policy First-Visit MC Control, the pseudocode for which is reproduced below (Reinforcement Learning, Sutton & Barto, 2018, Section 5.4 p.101).\n",
    "\n",
    "<img src=\"images/mc_control_algo.png\" style=\"width: 650px;\"/>\n",
    "\n",
    "Please produce the following:\n",
    "- A tabular **On-Policy First-Visit MC Control agent** which learns an optimal policy in the racetrack environment.\n",
    "- An **average learning curve**. Your learning curve should plot the mean **undiscounted return** from many agents as a function of episodes. Please specify how many agents' performances you are averaging in the title of your plot. This should be a dynamic figure that we can produce by running your code. If you wish to use any kind of graph smoothing, please also include an un-smoothed version of your graph, and ensure that your smoothing method does not cause artifacts near the edges of the plot.\n",
    "\n",
    "Please use the following parameter settings:\n",
    "- Discount factor $\\gamma = 0.9$.\n",
    "- For your $\\epsilon$-greedy policy, use exploratory action probability $\\epsilon = 0.15$.\n",
    "- Number of training episodes $= 150$.\n",
    "- Number of agents averaged should be at **least** 20.\n",
    "\n",
    "**If you use incorrect parameters, you may not get any credit for your work.**"
   ]
  },
  {
   "cell_type": "code",
   "execution_count": 4,
   "metadata": {
    "deletable": false,
    "nbgrader": {
     "cell_type": "code",
     "checksum": "649512bc2eee862020c70a675bb991a5",
     "grade": true,
     "grade_id": "cw2_racetrack_mc",
     "locked": false,
     "points": 8,
     "schema_version": 3,
     "solution": true,
     "task": false
    }
   },
   "outputs": [
    {
     "name": "stdout",
     "output_type": "stream",
     "text": [
      "-----------------\n",
      "[-4244.133333333333, -6219.733333333334, -7429.933333333333, -4214.166666666667, -6274.466666666666, -4240.833333333333, -2778.0666666666666, -2195.733333333333, -1402.8333333333333, -1455.5, -1309.2666666666667, -1275.9333333333334, -1652.8333333333333, -1636.9666666666667, -1786.5333333333333, -1631.7333333333333, -916.9333333333333, -1021.4, -780.8666666666667, -1343.3, -503.73333333333335, -609.5, -655.7333333333333, -523.5, -555.4333333333333, -448.1, -637.0333333333333, -402.8333333333333, -972.8666666666667, -445.46666666666664, -287.1333333333333, -166.5, -282.06666666666666, -343.43333333333334, -315.6333333333333, -367.3333333333333, -423.53333333333336, -326.23333333333335, -308.8, -307.3, -481.46666666666664, -480.6333333333333, -302.53333333333336, -327.7, -255.63333333333333, -320.43333333333334, -205.76666666666668, -176.03333333333333, -155.9, -154.33333333333334, -239.33333333333334, -200.8, -215.53333333333333, -191.4, -143.63333333333333, -199.13333333333333, -151.06666666666666, -159.33333333333334, -176.66666666666666, -149.23333333333332, -197.33333333333334, -184.83333333333334, -128.33333333333334, -160.43333333333334, -143.56666666666666, -132.43333333333334, -138.26666666666668, -160.1, -127.13333333333334, -119.8, -106.73333333333333, -112.16666666666667, -100.83333333333333, -69.8, -104.16666666666667, -77.96666666666667, -55.43333333333333, -116.86666666666666, -86.3, -91.43333333333334, -99.43333333333334, -112.33333333333333, -115.7, -127.66666666666667, -122.73333333333333, -116.23333333333333, -138.16666666666666, -114.66666666666667, -147.4, -154.0, -122.36666666666666, -85.33333333333333, -94.13333333333334, -154.0, -104.36666666666666, -96.4, -100.66666666666667, -98.2, -99.6, -95.6, -94.53333333333333, -120.63333333333334, -90.9, -87.63333333333334, -123.23333333333333, -98.63333333333334, -124.1, -92.03333333333333, -117.76666666666667, -116.13333333333334, -105.13333333333334, -137.13333333333333, -84.0, -141.46666666666667, -102.66666666666667, -56.233333333333334, -103.96666666666667, -85.13333333333334, -96.56666666666666, -143.16666666666666, -136.86666666666667, -113.9, -86.96666666666667, -74.73333333333333, -84.1, -55.3, -73.63333333333334, -80.4, -101.63333333333334, -99.53333333333333, -87.53333333333333, -69.76666666666667, -97.5, -60.733333333333334, -104.43333333333334, -77.26666666666667, -93.46666666666667, -69.46666666666667, -93.73333333333333, -96.26666666666667, -57.733333333333334, -67.03333333333333, -83.76666666666667, -80.93333333333334, -64.36666666666666, -88.63333333333334, -70.16666666666667, -79.73333333333333, -61.1, -60.2]\n"
     ]
    },
    {
     "data": {
      "image/png": "[encoded data removed]",
      "text/plain": [
       "<Figure size 432x288 with 1 Axes>"
      ]
     },
     "metadata": {
      "needs_background": "light"
     },
     "output_type": "display_data"
    }
   ],
   "source": [
    "# Please write your code for Exercise 1 in this cell or in as many cells as you want ABOVE this cell.\n",
    "# You should implement your MC agent and plot your average learning curve here.\n",
    "# Do NOT delete this cell.\n",
    "\n",
    "# Please write your code for Exercise 1 in this cell or in as many cells as you want ABOVE this cell.\n",
    "# You should implement your MC agent and plot your average learning curve here.\n",
    "# Do NOT delete this cell.\n",
    "\n",
    "# YOUR CODE HERE\n",
    "import numpy as np\n",
    "from racetrack_env import RacetrackEnv\n",
    "from typing import List\n",
    "from collections import defaultdict\n",
    "\n",
    "\n",
    "def argmax(values: list) -> int:\n",
    "    # np.argmax returns the first element in a list with the max value.\n",
    "    # We dont want this. we want to get a random choice of this max val.\n",
    "    max_val = max(values)\n",
    "    actions = [a for a in range(len(values)) if values[a] == max_val]\n",
    "    return np.random.choice(actions)\n",
    "\n",
    "\n",
    "class EpsilonGreedyPolicy:\n",
    "    def __init__(self, actions: List[int], epsilon: float) -> None:\n",
    "        self._actions = actions\n",
    "        self.mapping = defaultdict(lambda: [0 for _ in self._actions])\n",
    "        self.epsilon = epsilon\n",
    "\n",
    "    def __call__(self, state: int) -> int:\n",
    "        \"\"\"\n",
    "        Returns the optimal choice with probability of 1-epsilon. Else random.\n",
    "        \"\"\"\n",
    "        probabilities = [(self.epsilon / len(self._actions)) for _ in self._actions]\n",
    "        greedy_action = argmax(self.mapping[state])\n",
    "        probabilities[greedy_action] += (1 - self.epsilon)\n",
    "        return np.random.choice(self._actions, p=probabilities)\n",
    "\n",
    "\n",
    "class OnPolicyMCControl:\n",
    "    def __init__(self, env, epsilon, gamma, num_episodes):\n",
    "        self.env = env\n",
    "        self.epsilon = epsilon\n",
    "        self.gamma = gamma\n",
    "        self.num_episodes = num_episodes\n",
    "        self.positions = len(env.track) * len(env.track[0])\n",
    "        self.Q = defaultdict(lambda: [0 for _ in self.env.get_actions()])\n",
    "        self.policy = EpsilonGreedyPolicy(env.get_actions(), epsilon)\n",
    "\n",
    "    def _do_episode(self, episode_num):\n",
    "        state = self.env.reset()\n",
    "        episode = []\n",
    "        while True:  # Loop forever for each episode.\n",
    "            action = self.policy(state)\n",
    "            next_state, reward, is_terminal = self.env.step(action)\n",
    "            episode.append((state, action, reward))\n",
    "            state = next_state\n",
    "            if is_terminal:\n",
    "                break\n",
    "\n",
    "        return episode\n",
    "\n",
    "    def start(self):\n",
    "        returns = defaultdict(lambda: [[] for _ in self.env.get_actions()])\n",
    "        undiscounted_returns = []\n",
    "        for episode_num in range(self.num_episodes):\n",
    "            episode = self._do_episode(episode_num)\n",
    "            G = 0\n",
    "            undiscounted_return = 0\n",
    "            s_a_episode = [(s, a) for s, a, _ in episode]\n",
    "            for t, (s, a, r) in enumerate(reversed(episode)):\n",
    "                G = self.gamma * G + r\n",
    "                undiscounted_return += r\n",
    "                if (s, a) in s_a_episode[:t]:\n",
    "                    continue\n",
    "\n",
    "                returns[s][a].append(G)\n",
    "                self.Q[s][a] = sum(returns[s][a]) / len(returns[s][a])\n",
    "                a1 = argmax(self.Q[s])\n",
    "\n",
    "                for a_ in self.env.get_actions():\n",
    "                    if a_ == a1:\n",
    "                        self.policy.mapping[s][a_] = 1 - self.epsilon + self.epsilon / len(self.env.get_actions())\n",
    "                    else:\n",
    "                        self.policy.mapping[s][a_] = self.epsilon / len(self.env.get_actions())\n",
    "            undiscounted_returns.append(undiscounted_return)\n",
    "        return undiscounted_returns\n",
    "\n",
    "\n",
    "num_agents = 30\n",
    "epsilon = 0.15  # chance of doing something random\n",
    "gamma = 0.9  # discount\n",
    "num_episodes = 150\n",
    "optimal_policies = []\n",
    "agents_rewards_list = []\n",
    "for i in range(num_agents):\n",
    "    env = RacetrackEnv()\n",
    "    agent = OnPolicyMCControl(env, epsilon, gamma, num_episodes)\n",
    "    rewards = agent.start()\n",
    "    agents_rewards_list.append(rewards)\n",
    "\n",
    "mean_agent_rewards = []\n",
    "for i in range(num_episodes):\n",
    "    sum_i = 0\n",
    "    for agent_rewards in agents_rewards_list:\n",
    "        sum_i += agent_rewards[i]\n",
    "    reward_avg = sum_i / num_agents\n",
    "    mean_agent_rewards.append(reward_avg)\n",
    "\n",
    "print('-----------------')\n",
    "print(mean_agent_rewards)\n",
    "ex1_results = mean_agent_rewards\n",
    "\n",
    "import matplotlib.pyplot as plt\n",
    "plt.plot(mean_agent_rewards)\n",
    "plt.title(f\"Monte Carlo Control - Averaged {num_agents} agents\")\n",
    "plt.xlabel(\"Episode Number\")\n",
    "plt.ylabel(\"Undiscounted Return\")\n",
    "plt.show()"
   ]
  },
  {
   "cell_type": "markdown",
   "metadata": {
    "deletable": false,
    "editable": false,
    "nbgrader": {
     "cell_type": "markdown",
     "checksum": "7e4a984adf1bc8d2c4284430f1cb9677",
     "grade": false,
     "grade_id": "cell-e74a2cb7d25f13ce",
     "locked": true,
     "schema_version": 3,
     "solution": false,
     "task": false
    }
   },
   "source": [
    "## Exercise 2: Sarsa (4 Marks)\n",
    "\n",
    "In this exercise, you will implement an agent which learns to reach a goal state in the racetrack task using the Sarsa algorithm, the pseudocode for which is reproduced below (Reinforcement Learning, Sutton & Barto, 2018, Section 6.4 p.129).\n",
    "\n",
    "<img src=\"images/sarsa_algo.png\" style=\"width: 650px;\"/>\n",
    "\n",
    "Please produce the following:\n",
    "\n",
    "- A tabular **Sarsa agent** which learns an optimal policy in the racetrack environment.\n",
    "- An **average learning curve**. Your learning curve should plot the mean **undiscounted return** from many agents as a function of episodes. Please specify how many agents' performances you are averaging in the title of your plot. This should be a dynamic figure that we can produce by running your code. If you wish to use any kind of graph smoothing, please also include an un-smoothed version of your graph, and ensure that your smoothing method does not cause artifacts near the edges of the plot.\n",
    "\n",
    "Please use the following parameter settings:\n",
    "- Step size parameter $\\alpha = 0.2$.\n",
    "- Discount factor $\\gamma = 0.9$.\n",
    "- For your $\\epsilon$-greedy policy, use exploratory action probability $\\epsilon = 0.15$.\n",
    "- Number of training episodes $= 150$.\n",
    "- Number of agents averaged should be at **least** 20.\n",
    "\n",
    "**If you use incorrect parameters, you may not get any credit for your work.**"
   ]
  },
  {
   "cell_type": "code",
   "execution_count": 5,
   "metadata": {
    "deletable": false,
    "nbgrader": {
     "cell_type": "code",
     "checksum": "c9a53080c8f7299be171f87578ecc29a",
     "grade": true,
     "grade_id": "cw2_racetrack_sarsa",
     "locked": false,
     "points": 4,
     "schema_version": 3,
     "solution": true,
     "task": false
    }
   },
   "outputs": [
    {
     "name": "stdout",
     "output_type": "stream",
     "text": [
      "-----------------\n",
      "[-2455.6, -1859.8666666666666, -1231.8666666666666, -1417.2, -1400.1333333333334, -1218.8, -1110.0333333333333, -731.8, -1270.6333333333334, -555.6, -1165.9333333333334, -564.9333333333333, -988.2, -614.8666666666667, -557.0, -632.3333333333334, -718.2666666666667, -612.3333333333334, -696.0666666666667, -479.8, -504.6333333333333, -733.7, -372.3, -534.9, -327.7, -673.8, -468.3666666666667, -409.03333333333336, -336.0, -333.7, -428.4, -403.53333333333336, -315.56666666666666, -301.73333333333335, -361.96666666666664, -432.9, -427.03333333333336, -341.0, -428.76666666666665, -374.9, -224.6, -314.53333333333336, -337.43333333333334, -308.46666666666664, -350.6666666666667, -255.8, -278.53333333333336, -316.06666666666666, -261.43333333333334, -288.96666666666664, -223.4, -240.0, -233.23333333333332, -311.3666666666667, -212.76666666666668, -238.03333333333333, -312.73333333333335, -177.66666666666666, -195.9, -265.46666666666664, -273.5, -219.36666666666667, -165.96666666666667, -193.56666666666666, -166.73333333333332, -205.33333333333334, -188.43333333333334, -232.96666666666667, -163.66666666666666, -245.7, -141.3, -161.53333333333333, -209.6, -149.43333333333334, -212.56666666666666, -168.76666666666668, -141.96666666666667, -133.5, -263.53333333333336, -133.23333333333332, -165.86666666666667, -123.6, -174.73333333333332, -114.56666666666666, -163.23333333333332, -144.46666666666667, -142.26666666666668, -124.5, -170.53333333333333, -140.93333333333334, -148.7, -103.46666666666667, -107.83333333333333, -150.96666666666667, -188.06666666666666, -103.96666666666667, -72.8, -79.8, -62.5, -107.76666666666667, -96.4, -102.53333333333333, -86.2, -89.16666666666667, -99.3, -83.46666666666667, -102.2, -115.1, -83.26666666666667, -66.7, -101.06666666666666, -96.13333333333334, -90.23333333333333, -70.5, -95.1, -75.1, -83.63333333333334, -90.4, -83.63333333333334, -60.13333333333333, -82.76666666666667, -83.16666666666667, -69.5, -66.8, -72.76666666666667, -72.13333333333334, -95.2, -97.73333333333333, -85.26666666666667, -90.36666666666666, -48.166666666666664, -60.2, -61.86666666666667, -55.6, -64.76666666666667, -84.2, -58.86666666666667, -55.733333333333334, -57.666666666666664, -57.833333333333336, -40.56666666666667, -55.46666666666667, -48.9, -49.2, -64.33333333333333, -63.5, -49.46666666666667, -49.93333333333333, -69.73333333333333, -74.33333333333333]\n"
     ]
    },
    {
     "data": {
      "image/png": "[encoded data removed]",
      "text/plain": [
       "<Figure size 432x288 with 1 Axes>"
      ]
     },
     "metadata": {
      "needs_background": "light"
     },
     "output_type": "display_data"
    }
   ],
   "source": [
    "# Please write your code for Exercise 2 in this cell or in as many cells as you want ABOVE this cell.\n",
    "# You should implement your sarsa agent and plot your average learning curve here.\n",
    "# Do NOT delete this cell.\n",
    "\n",
    "import numpy as np\n",
    "from racetrack_env import RacetrackEnv\n",
    "from typing import List\n",
    "from collections import defaultdict\n",
    "\n",
    "\n",
    "def argmax(values: list) -> int:\n",
    "    # np.argmax returns the first element in a list with the max value.\n",
    "    # We dont want this. we want to get a random choice of this max val.\n",
    "    max_val = max(values)\n",
    "    actions = [a for a in range(len(values)) if values[a] == max_val]\n",
    "    return np.random.choice(actions)\n",
    "\n",
    "\n",
    "class EpsilonGreedyPolicy:\n",
    "    def __init__(self, Q: dict, actions: List[int], epsilon: float) -> None:\n",
    "        self._actions = actions\n",
    "        self.Q = Q\n",
    "        self.epsilon = epsilon\n",
    "\n",
    "    def __call__(self, state: int) -> int:\n",
    "        \"\"\"\n",
    "        Returns the optimal choice with probability of 1-epsilon. Else random.\n",
    "        \"\"\"\n",
    "        probabilities = [(self.epsilon / len(self._actions)) for _ in self._actions]\n",
    "        greedy_action = argmax(self.Q[state])\n",
    "        probabilities[greedy_action] += (1 - self.epsilon)\n",
    "        return np.random.choice(self._actions, p=probabilities)\n",
    "\n",
    "\n",
    "class SarsaOnPolicyTDControl:\n",
    "    def __init__(self, env, epsilon: float, gamma: float, alpha: float, num_episodes: int) -> None:\n",
    "        self.env = env\n",
    "        self.epsilon = epsilon\n",
    "        self.gamma = gamma\n",
    "        self.alpha = alpha\n",
    "        self.num_episodes = num_episodes\n",
    "        self.Q = defaultdict(lambda: [0 for _ in self.env.get_actions()])\n",
    "        self.policy = EpsilonGreedyPolicy(self.Q, env.get_actions(), epsilon)\n",
    "\n",
    "    def _do_episode(self):\n",
    "        state = self.env.reset()\n",
    "        episode = []\n",
    "        action = self.policy(state)\n",
    "        while True:\n",
    "            next_state, reward, is_terminal = self.env.step(action)\n",
    "            next_action = self.policy(next_state)\n",
    "            episode.append((state, action, reward))\n",
    "            self.Q[state][action] += self.alpha * (\n",
    "                    reward + self.gamma * self.Q[next_state][next_action] - self.Q[state][action])\n",
    "            state = next_state\n",
    "            action = next_action\n",
    "            if is_terminal:\n",
    "                break\n",
    "        return episode\n",
    "\n",
    "    def start(self):\n",
    "        undiscounted_rewards = []\n",
    "        for episode_num in range(self.num_episodes):\n",
    "            episode = self._do_episode()\n",
    "            undiscounted_rewards.append(sum([step[2] for step in episode]))\n",
    "        return undiscounted_rewards\n",
    "\n",
    "\n",
    "num_agents = 30\n",
    "alpha = 0.2\n",
    "epsilon = 0.15  # chance of doing something random\n",
    "gamma = 0.9  # discount\n",
    "num_episodes = 150\n",
    "optimal_policies = []\n",
    "agents_rewards_list = []\n",
    "for i in range(num_agents):\n",
    "    env = RacetrackEnv()\n",
    "    agent = SarsaOnPolicyTDControl(env, epsilon, gamma, alpha, num_episodes)\n",
    "    rewards = agent.start()\n",
    "    agents_rewards_list.append(rewards)\n",
    "\n",
    "mean_agent_rewards = []\n",
    "for i in range(num_episodes):\n",
    "    sum_i = 0\n",
    "    for agent_rewards in agents_rewards_list:\n",
    "        sum_i += agent_rewards[i]\n",
    "    reward_avg = sum_i / num_agents\n",
    "    mean_agent_rewards.append(reward_avg)\n",
    "\n",
    "print('-----------------')\n",
    "print(mean_agent_rewards)\n",
    "ex2_results = mean_agent_rewards\n",
    "\n",
    "import matplotlib.pyplot as plt\n",
    "plt.plot(mean_agent_rewards)\n",
    "plt.title(f\"Sarsa - Averaged {num_agents} agents\")\n",
    "plt.xlabel(\"Episode Number\")\n",
    "plt.ylabel(\"Undiscounted Return\")\n",
    "plt.show()"
   ]
  },
  {
   "cell_type": "markdown",
   "metadata": {
    "deletable": false,
    "editable": false,
    "nbgrader": {
     "cell_type": "markdown",
     "checksum": "33a7c39b3e73ebd8f0a3e47a6bc96493",
     "grade": false,
     "grade_id": "cell-b0d45e347090cb02",
     "locked": true,
     "schema_version": 3,
     "solution": false,
     "task": false
    }
   },
   "source": [
    "## Exercise 3: Q-Learning (4 Marks)\n",
    "\n",
    "In this exercise, you will implement an agent which learns to reach a goal state in the racetrack task using the Q-Learning algorithm, the pseudocode for which is reproduced below (Reinforcement Learning, Sutton & Barto, 2018, Section 6.5 p.131).\n",
    "\n",
    "<img src=\"images/q_learning_algo.png\" style=\"width: 650px;\"/>\n",
    "\n",
    "Please produce the following:\n",
    "\n",
    "- A tabular **Q-Learning agent** which learns an optimal policy in the racetrack environment.\n",
    "- An **average learning curve**. Your learning curve should plot the mean **undiscounted return** from many agents as a function of episodes. Please specify how many agents' performances you are averaging in the title of your plot. This should be a dynamic figure that we can produce by running your code. If you wish to use any kind of graph smoothing, please also include an un-smoothed version of your graph, and ensure that your smoothing method does not cause artifacts near the edges of the plot.\n",
    "\n",
    "Please use the following parameter settings:\n",
    "- Step size parameter $\\alpha = 0.2$.\n",
    "- Discount factor $\\gamma = 0.9$.\n",
    "- For your $\\epsilon$-greedy policy, use exploratory action probability $\\epsilon = 0.15$.\n",
    "- Number of training episodes $= 150$.\n",
    "- Number of agents averaged should be at **least** 20.\n",
    "\n",
    "**If you use incorrect parameters, you may not get any credit for your work.**\n",
    "\n",
    "Hint: Your Q-Learning implementation is likely to be similar to your Sarsa implementation. Think hard about where these two algorithms differ."
   ]
  },
  {
   "cell_type": "code",
   "execution_count": 6,
   "metadata": {
    "deletable": false,
    "nbgrader": {
     "cell_type": "code",
     "checksum": "58224806e4635f98132e21bb17f52998",
     "grade": true,
     "grade_id": "cw2_racetrack_q_learning",
     "locked": false,
     "points": 4,
     "schema_version": 3,
     "solution": true,
     "task": false
    }
   },
   "outputs": [
    {
     "name": "stdout",
     "output_type": "stream",
     "text": [
      "-----------------\n",
      "[-2273.5333333333333, -1290.4333333333334, -1782.9666666666667, -1635.5666666666666, -1502.9, -1194.8666666666666, -1203.2333333333333, -821.0666666666667, -939.2666666666667, -1062.7, -827.0, -817.8333333333334, -769.8666666666667, -1017.2666666666667, -552.3, -721.9333333333333, -491.06666666666666, -792.8333333333334, -593.2, -508.53333333333336, -435.46666666666664, -469.6333333333333, -407.6333333333333, -426.93333333333334, -500.9, -549.6666666666666, -413.6333333333333, -373.26666666666665, -290.1, -310.43333333333334, -454.53333333333336, -384.53333333333336, -334.23333333333335, -261.43333333333334, -360.76666666666665, -293.06666666666666, -243.16666666666666, -277.06666666666666, -295.03333333333336, -294.06666666666666, -193.3, -288.8, -235.23333333333332, -247.33333333333334, -151.13333333333333, -160.96666666666667, -256.93333333333334, -148.73333333333332, -164.43333333333334, -169.63333333333333, -208.23333333333332, -88.86666666666666, -150.26666666666668, -165.96666666666667, -170.8, -178.06666666666666, -180.76666666666668, -186.6, -170.03333333333333, -104.3, -120.66666666666667, -154.03333333333333, -114.83333333333333, -191.0, -123.56666666666666, -59.8, -93.4, -96.8, -108.63333333333334, -114.06666666666666, -109.63333333333334, -114.83333333333333, -98.4, -103.5, -80.83333333333333, -70.06666666666666, -94.36666666666666, -126.96666666666667, -91.86666666666666, -78.13333333333334, -75.2, -85.1, -92.86666666666666, -70.76666666666667, -61.1, -72.4, -66.36666666666666, -46.96666666666667, -72.16666666666667, -67.56666666666666, -61.93333333333333, -68.73333333333333, -65.83333333333333, -74.13333333333334, -57.03333333333333, -49.333333333333336, -71.76666666666667, -82.06666666666666, -74.13333333333334, -52.06666666666667, -42.7, -54.56666666666667, -60.733333333333334, -72.7, -41.333333333333336, -39.766666666666666, -42.7, -54.63333333333333, -56.13333333333333, -64.1, -62.266666666666666, -30.966666666666665, -45.7, -33.733333333333334, -62.53333333333333, -45.96666666666667, -30.233333333333334, -48.03333333333333, -64.66666666666667, -43.1, -42.46666666666667, -57.3, -32.86666666666667, -55.666666666666664, -29.633333333333333, -32.2, -55.833333333333336, -44.333333333333336, -40.7, -22.266666666666666, -47.166666666666664, -39.3, -33.53333333333333, -49.0, -47.5, -37.8, -48.6, -38.93333333333333, -34.46666666666667, -27.333333333333332, -45.43333333333333, -50.5, -36.86666666666667, -43.6, -24.7, -33.766666666666666, -23.266666666666666, -47.06666666666667, -35.56666666666667, -48.63333333333333]\n"
     ]
    },
    {
     "data": {
      "image/png": "[encoded data removed]",
      "text/plain": [
       "<Figure size 432x288 with 1 Axes>"
      ]
     },
     "metadata": {
      "needs_background": "light"
     },
     "output_type": "display_data"
    }
   ],
   "source": [
    "# Please write your code for Exercise 3 in this cell or in as many cells as you want ABOVE this cell.\n",
    "# You should implement your q-learning agent agent and plot your average learning curve here.\n",
    "# Do NOT delete this cell.\n",
    "\n",
    "import numpy as np\n",
    "from racetrack_env import RacetrackEnv\n",
    "from typing import List\n",
    "from collections import defaultdict\n",
    "\n",
    "\n",
    "def argmax(values: list) -> int:\n",
    "    # np.argmax returns the first element in a list with the max value.\n",
    "    # We dont want this. we want to get a random choice of this max val.\n",
    "    max_val = max(values)\n",
    "    actions = [a for a in range(len(values)) if values[a] == max_val]\n",
    "    return np.random.choice(actions)\n",
    "\n",
    "\n",
    "class EpsilonGreedyPolicy:\n",
    "    def __init__(self, Q: dict, actions: List[int], epsilon: float) -> None:\n",
    "        self._actions = actions\n",
    "        self.Q = Q\n",
    "        self.epsilon = epsilon\n",
    "\n",
    "    def argmax(self, state: int) -> int:\n",
    "        # np.argmax returns the first element in a list with the max value.\n",
    "        # We dont want this. we want to get a random choice of this max val.\n",
    "        max_val = max(self.Q[state])\n",
    "        actions = [a for a in self._actions if self.Q[state][a] == max_val]\n",
    "        return np.random.choice(actions)\n",
    "\n",
    "    def __call__(self, state: int) -> int:\n",
    "        \"\"\"\n",
    "        Returns the optimal choice with probability of 1-epsilon. Else random.\n",
    "        \"\"\"\n",
    "        probabilities = [(self.epsilon / len(self._actions)) for _ in self._actions]\n",
    "        greedy_action = argmax(self.Q[state])\n",
    "        probabilities[greedy_action] += (1 - self.epsilon)\n",
    "        return np.random.choice(self._actions, p=probabilities)\n",
    "\n",
    "\n",
    "class QLearning:\n",
    "    def __init__(self, env, epsilon: float, gamma: float, alpha: float, num_episodes: int) -> None:\n",
    "        self.env = env\n",
    "        self.epsilon = epsilon\n",
    "        self.gamma = gamma\n",
    "        self.alpha = alpha\n",
    "        self.num_episodes = num_episodes\n",
    "        self.Q = defaultdict(lambda: [0 for _ in self.env.get_actions()])\n",
    "        self.policy = EpsilonGreedyPolicy(self.Q, env.get_actions(), epsilon)\n",
    "\n",
    "    def _do_episode(self):\n",
    "        state = self.env.reset()\n",
    "        episode = []\n",
    "        while True:\n",
    "            action = self.policy(state)\n",
    "            next_state, reward, is_terminal = self.env.step(action)\n",
    "            episode.append((state, action, reward))\n",
    "            best_action = max(self.Q[next_state])\n",
    "            self.Q[state][action] += self.alpha * (reward + self.gamma * best_action - self.Q[state][action])\n",
    "            state = next_state\n",
    "            if is_terminal:\n",
    "                break\n",
    "        return episode\n",
    "\n",
    "    def start(self):\n",
    "        undiscounted_rewards = []\n",
    "        for episode_num in range(self.num_episodes):\n",
    "            episode = self._do_episode()\n",
    "            undiscounted_rewards.append(sum([step[2] for step in episode]))\n",
    "        return undiscounted_rewards\n",
    "\n",
    "\n",
    "num_agents = 30\n",
    "alpha = 0.2\n",
    "epsilon = 0.15  # chance of doing something random\n",
    "gamma = 0.9  # discount\n",
    "num_episodes = 150\n",
    "optimal_policies = []\n",
    "agents_rewards_list = []\n",
    "for i in range(num_agents):\n",
    "    env = RacetrackEnv()\n",
    "    agent = QLearning(env, epsilon, gamma, alpha, num_episodes)\n",
    "    rewards = agent.start()\n",
    "    agents_rewards_list.append(rewards)\n",
    "\n",
    "mean_agent_rewards = []\n",
    "for i in range(num_episodes):\n",
    "    sum_i = 0\n",
    "    for agent_rewards in agents_rewards_list:\n",
    "        sum_i += agent_rewards[i]\n",
    "    reward_avg = sum_i / num_agents\n",
    "    mean_agent_rewards.append(reward_avg)\n",
    "\n",
    "print('-----------------')\n",
    "print(mean_agent_rewards)\n",
    "ex3_results = mean_agent_rewards\n",
    "\n",
    "import matplotlib.pyplot as plt\n",
    "plt.plot(mean_agent_rewards)\n",
    "plt.title(f\"Q Learning - Averaged {num_agents} agents\")\n",
    "plt.xlabel(\"Episode Number\")\n",
    "plt.ylabel(\"Undiscounted Return\")\n",
    "plt.show()"
   ]
  },
  {
   "cell_type": "markdown",
   "metadata": {
    "deletable": false,
    "editable": false,
    "nbgrader": {
     "cell_type": "markdown",
     "checksum": "4fc9a799cee886dafc296f111bd3ceb3",
     "grade": false,
     "grade_id": "cell-b5dc1ef13af04d71",
     "locked": true,
     "schema_version": 3,
     "solution": false,
     "task": false
    }
   },
   "source": [
    "## Exercise 4: Comparison & Discussion (8 Marks)\n",
    "\n",
    "Please produce a plot which shows the data from your previous three graphs plotted together on the same set of axes. Be sure to include plot elements such as [axis labels, titles](https://matplotlib.org/3.3.3/tutorials/text/text_intro.html), and a [legend](https://matplotlib.org/3.3.3/tutorials/intermediate/legend_guide.html), so that it is clear which data series corresponds to the performance of which agent. **If we are not able to easily interpret your plots, you may not get any credit for your work.**\n",
    "\n",
    "Please note that **you should not re-train your agents from scratch**. You should re-use your results from the previous exercises.\n",
    "\n",
    "To improve the visual clarity of your graphs, you may wish to apply some kind of cropping or smoothing. If you choose to do this, please also include an un-altered version of your graph. Please ensure that any graph smoothing method you use does not cause artifacts near the edges of the plot."
   ]
  },
  {
   "cell_type": "code",
   "execution_count": 7,
   "metadata": {
    "deletable": false,
    "nbgrader": {
     "cell_type": "code",
     "checksum": "3d01b29339fcaf4c3edbecce6d57c0c8",
     "grade": true,
     "grade_id": "cw2_racetrack_comparison_graphs",
     "locked": false,
     "points": 0,
     "schema_version": 3,
     "solution": true,
     "task": false
    }
   },
   "outputs": [
    {
     "data": {
      "image/png": "[encoded data removed]",
      "text/plain": [
       "<Figure size 432x288 with 1 Axes>"
      ]
     },
     "metadata": {
      "needs_background": "light"
     },
     "output_type": "display_data"
    }
   ],
   "source": [
    "# Please write your code for Exercise 4 in this cell or in as many cells as you want ABOVE this cell.\n",
    "# You should plot your combined graph here, clearly showing each of the average learning curves of your three agents.\n",
    "# Do NOT delete this cell.\n",
    "\n",
    "import matplotlib.pyplot as plt\n",
    "plt.plot(ex1_results, label=\"Monte Carlo\")\n",
    "plt.plot(ex2_results, label=\"Sarsa\")\n",
    "plt.plot(ex3_results, label=\"Q-Learning\")\n",
    "plt.title(f\"Exercises 1-3 compared. - All averaged over {num_agents} agents\")\n",
    "plt.xlabel(\"Episode Number\")\n",
    "plt.ylabel(\"Undiscounted Return\")\n",
    "plt.legend(loc=4)\n",
    "plt.show()"
   ]
  },
  {
   "cell_type": "markdown",
   "metadata": {
    "deletable": false,
    "editable": false,
    "nbgrader": {
     "cell_type": "markdown",
     "checksum": "3e58a5c5162f06ccfca524fb7978b523",
     "grade": false,
     "grade_id": "cell-cad20c789de502f8",
     "locked": true,
     "schema_version": 3,
     "solution": false,
     "task": false
    }
   },
   "source": [
    "In **eight sentences** or fewer, please discuss the following:\n",
    "- The performance of your different agents.\n",
    "- Why each of your agents performed differently.\n",
    "- Explain the differences you saw, and expected to see, between the performances and polices of your Sarsa and Q-Learning agents.\n",
    "- What could be done to improve the performance of your agents?"
   ]
  },
  {
   "cell_type": "markdown",
   "metadata": {
    "deletable": false,
    "nbgrader": {
     "cell_type": "markdown",
     "checksum": "e922baba2152fa60c154296e4962fd8e",
     "grade": true,
     "grade_id": "cw2_racetrack_discussion",
     "locked": false,
     "points": 8,
     "schema_version": 3,
     "solution": true,
     "task": false
    }
   },
   "source": [
    "Monte Carlo control (MC) has a much slower initial learning curve when compared to both SARSA and Q-learning TD approaches. This is because unlike TD approaches, MC cannot learn without reaching the terminal goal state and is what causes the more negative undiscounted return for MC when compared to SARSA and Q-learning, especially in early episodes while it is acting almost completely randomly. Additionally, its state-action pairs are only updated using the final reward, and neighbouring states are not taken into account.\n",
    "\n",
    "Sarsa and Q-learning benefit from quicker learning when compared to Monte-Carlo as they do not need to wait for an episode to terminate to update their state-action pair value function, Q(s, a). However, SARSA unlike Q-learning, uses on-policy learning by choosing its new action, a' using the same epsilon-greedy policy that was used to choose initial action, a. Because of this difference, and the fact that we aren't reducing epsilon over time, SARSA converged on the safer optimal epsilon-greedy policy, whereas Q-learning picked its next action greedily off-policy and learnt the optimal policy (optimal path). This difference can be observed in the slightly more negative and stochastic mean undiscounted return for SARSA in all episodes. An improvement all agents could benefit from is gradually reducing epsilon over time, which would limit exploration from taking place and encourage exploitation in later episodes once convergence to an optimal policy (epsilon greedy optimal in the case of SARSA) has mostly finished."
   ]
  },
  {
   "cell_type": "markdown",
   "metadata": {
    "deletable": false,
    "editable": false,
    "nbgrader": {
     "cell_type": "markdown",
     "checksum": "31f4001cde10711469a52f48d0c0868f",
     "grade": false,
     "grade_id": "cell-4ec5137941b60726",
     "locked": true,
     "schema_version": 3,
     "solution": false,
     "task": false
    }
   },
   "source": [
    "## Exercise 5: Modified Q-Learning Agent (16 Marks)\n",
    "### Exercise 5a: Implementation\n",
    "In this exercise, you will implement an agent which learns to reach a goal state in the racetrack task using the Q-Learning algorithm, the pseudocode for which is reproduced below (Reinforcement Learning, Sutton & Barto, 2018, Section 6.5 p.131).\n",
    "\n",
    "<img src=\"images/q_learning_algo.png\" style=\"width: 650px;\"/>\n",
    "\n",
    "In order to score high marks in this exercise, you will need to extend your solution beyond a simple Q-Learning agent to achieve more efficient learning (i.e., using fewer interactions with the environment). Ideas for improving your agent will have been discussed in lectures, and can be found in the course textbook (Reinforcement Learning, Sutton & Barto, 2018). However you go about improving your agent, it must still use **tabular Q-Learning** at its core.\n",
    "\n",
    "Please produce the following:\n",
    "- A tabular **Q-Learning agent**, with whatever modifications you believe are reasonable in order to acheieve better performance in the Racetrack domain.\n",
    "- An **average learning curve**. Your learning curve should plot the mean **undiscounted return** from many agents as a function of episodes. Please specify how many agents' performances you are averaging in the title of your plot. This should be a dynamic figure that we can produce by running your code. If you wish to use any kind of graph smoothing, please also include an un-smoothed version of your graph, and ensure that your smoothing method does not cause artifacts near the edges of the plot.\n",
    "\n",
    "Please use the following parameter settings:\n",
    "- Number of training episodes $= 150$.\n",
    "- Number of agents averaged should be at **least** 2.\n",
    "\n",
    "**If you use incorrect parameters, you may not get any credit for your work.**\n",
    "\n",
    "You may adjust all other parameters as you see fit."
   ]
  },
  {
   "cell_type": "code",
   "execution_count": 8,
   "metadata": {
    "deletable": false,
    "nbgrader": {
     "cell_type": "code",
     "checksum": "bf3e77bdececb88b711efa0528848942",
     "grade": true,
     "grade_id": "cw2_racetrack_modified",
     "locked": false,
     "points": 0,
     "schema_version": 3,
     "solution": true,
     "task": false
    },
    "scrolled": true
   },
   "outputs": [
    {
     "name": "stdout",
     "output_type": "stream",
     "text": [
      "-----------------\n"
     ]
    },
    {
     "data": {
      "image/png": "[encoded data removed]",
      "text/plain": [
       "<Figure size 432x288 with 1 Axes>"
      ]
     },
     "metadata": {
      "needs_background": "light"
     },
     "output_type": "display_data"
    }
   ],
   "source": [
    "# Please write your code for Exercise 5a in this cell or in as many cells as you want ABOVE this cell.\n",
    "# You should implement your modified q-learning agent agent and plot your average learning curve here.\n",
    "# Do NOT delete this cell.\n",
    "\n",
    "import random\n",
    "import abc\n",
    "import numpy as np\n",
    "from racetrack_env import RacetrackEnv\n",
    "from typing import List, Union\n",
    "from collections import defaultdict\n",
    "\n",
    "\n",
    "def argmax(values: list) -> int:\n",
    "    # np.argmax returns the first element in a list with the max value.\n",
    "    # We dont want this. we want to get a random choice of this max val.\n",
    "    max_val = max(values)\n",
    "    actions = [a for a in range(len(values)) if values[a] == max_val]\n",
    "    return np.random.choice(actions)\n",
    "\n",
    "\n",
    "class Epsilon:\n",
    "    def __init__(self, initial: Union[int, float]):\n",
    "        self.value = initial\n",
    "\n",
    "    @abc.abstractmethod\n",
    "    def update(self, reward: Union[int, float]) -> Union[int, float]:\n",
    "        ...\n",
    "\n",
    "\n",
    "class RewardBasedDecayEpsilon(Epsilon):\n",
    "    def __init__(self,\n",
    "                 initial: Union[int, float],\n",
    "                 minimum: Union[int, float],\n",
    "                 decay_factor: Union[int, float],\n",
    "                 reward_threshold: int,\n",
    "                 reward_increment: int) -> None:\n",
    "        super().__init__(initial)\n",
    "        self.minimum = minimum\n",
    "        self.decay_factor = decay_factor\n",
    "        self.reward_threshold = reward_threshold\n",
    "        self.reward_increment = reward_increment\n",
    "\n",
    "    def update(self, reward: Union[int, float]) -> Union[int, float]:\n",
    "        if self.value > self.minimum and reward >= self.reward_threshold:\n",
    "            self.value *= self.decay_factor\n",
    "            self.reward_threshold += self.reward_increment\n",
    "        return self.value\n",
    "\n",
    "\n",
    "class EpsilonGreedyPolicy:\n",
    "    def __init__(self, Q: dict, actions: List[int], epsilon: Epsilon) -> None:\n",
    "        self._actions = actions\n",
    "        self.Q = Q\n",
    "        self.epsilon = epsilon\n",
    "\n",
    "    def __call__(self, state: int) -> int:\n",
    "        \"\"\"\n",
    "        Returns the optimal choice with probability of 1-epsilon. Else random.\n",
    "        \"\"\"\n",
    "        probabilities = [(self.epsilon.value / len(self._actions)) for _ in self._actions]\n",
    "        greedy_action = argmax(self.Q[state])\n",
    "        probabilities[greedy_action] += (1 - self.epsilon.value)\n",
    "        return np.random.choice(self._actions, p=probabilities)\n",
    "\n",
    "\n",
    "class QLearning:\n",
    "    def __init__(self, env, epsilon: Epsilon, gamma: float, alpha: float, num_episodes: int) -> None:\n",
    "        self.env = env\n",
    "        self.epsilon = epsilon\n",
    "        self.gamma = gamma\n",
    "        self.alpha = alpha\n",
    "        self.num_episodes = num_episodes\n",
    "        self.Q = defaultdict(lambda: [0 for _ in self.env.get_actions()])\n",
    "        self.policy = EpsilonGreedyPolicy(self.Q, env.get_actions(), epsilon)\n",
    "        self.model = defaultdict(dict)\n",
    "\n",
    "    def _do_episode(self, episode_num):\n",
    "        state = self.env.reset()\n",
    "        episode = []\n",
    "        while True:\n",
    "            action = self.policy(state)\n",
    "            next_state, reward, is_terminal = self.env.step(action)\n",
    "            episode.append((state, action, reward))\n",
    "            best_action = max(self.Q[next_state])\n",
    "            self.Q[state][action] += self.alpha * (reward + self.gamma * best_action - self.Q[state][action])\n",
    "            self.model[state][action] = (reward, next_state)\n",
    "\n",
    "            for i in range(20):\n",
    "                s = random.choice(list(self.model))\n",
    "                a = random.choice(list(self.model[s]))\n",
    "                r, s_ = self.model[s][a]\n",
    "                a1 = max(self.Q[s_])\n",
    "                self.Q[s][a] += self.alpha * (r + self.gamma * a1 - self.Q[s][a])\n",
    "\n",
    "            state = next_state\n",
    "            if is_terminal:\n",
    "                break\n",
    "        return episode\n",
    "\n",
    "    def start(self):\n",
    "        undiscounted_rewards = []\n",
    "        for episode_num in range(self.num_episodes):\n",
    "            episode = self._do_episode(episode_num)\n",
    "            undiscounted_reward = sum([step[2] for step in episode])\n",
    "            undiscounted_rewards.append(undiscounted_reward)\n",
    "            self.epsilon.update(sum([step[2] for step in episode]))\n",
    "        return undiscounted_rewards\n",
    "\n",
    "\n",
    "num_agents = 30\n",
    "alpha = 0.2\n",
    "gamma = 0.9  # discount\n",
    "num_episodes = 150\n",
    "optimal_policies = []\n",
    "agents_rewards_list = []\n",
    "for i in range(num_agents):\n",
    "    env = RacetrackEnv()\n",
    "    epsilon = RewardBasedDecayEpsilon(initial=0.4,\n",
    "                                      minimum=0.0,\n",
    "                                      decay_factor=0.93,\n",
    "                                      reward_threshold=-200,\n",
    "                                      reward_increment=3\n",
    "                                      )\n",
    "    agent = QLearning(env, epsilon, gamma, alpha, num_episodes)\n",
    "    rewards = agent.start()\n",
    "    agents_rewards_list.append(rewards)\n",
    "\n",
    "mean_agent_rewards = []\n",
    "for i in range(num_episodes):\n",
    "    sum_i = 0\n",
    "    for agent_rewards in agents_rewards_list:\n",
    "        sum_i += agent_rewards[i]\n",
    "    reward_avg = sum_i / num_agents\n",
    "    mean_agent_rewards.append(reward_avg)\n",
    "\n",
    "print('-----------------')\n",
    "ex5_results = mean_agent_rewards\n",
    "import matplotlib.pyplot as plt\n",
    "\n",
    "plt.plot(mean_agent_rewards)\n",
    "plt.title(f\"Dyna-Q Learning with Reward Based Epsilon Decay - {num_agents} agents\")\n",
    "plt.xlabel(\"Episode Number\")\n",
    "plt.ylabel(\"Undiscounted Return\")\n",
    "plt.show()"
   ]
  },
  {
   "cell_type": "markdown",
   "metadata": {
    "deletable": false,
    "editable": false,
    "nbgrader": {
     "cell_type": "markdown",
     "checksum": "09856cb44b2ecf55e58a5572e73df7c0",
     "grade": false,
     "grade_id": "cell-d5827808ed0c8886",
     "locked": true,
     "schema_version": 3,
     "solution": false,
     "task": false
    }
   },
   "source": [
    "### Exercise 5b: Comparison & Discussion\n",
    "\n",
    "Please produce a plot which shows the performance of your original Q-Learning agent and your modified Q-Learning agent. Be sure to include plot elements such as [axis labels, titles](https://matplotlib.org/3.3.3/tutorials/text/text_intro.html), and a [legend](https://matplotlib.org/3.3.3/tutorials/intermediate/legend_guide.html), so that it is clear which data series corresponds to the performance of which agent. **If we are not able to easily interpret your plots, you may not get any credit for your work.**\n",
    "\n",
    "Please note that **you should not re-train your agents from scratch**. You should re-use your results from the previous exercises.\n",
    "\n",
    "To improve the visual clarity of your graphs, you may wish to apply some kind of cropping or smoothing. If you choose to do this, please also include an un-altered version of your graph. Please ensure that any graph smoothing method you use does not cause artifacts near the edges of the plot."
   ]
  },
  {
   "cell_type": "code",
   "execution_count": 9,
   "metadata": {
    "deletable": false,
    "nbgrader": {
     "cell_type": "code",
     "checksum": "f95767a26bd3e76b8311e26030234d19",
     "grade": true,
     "grade_id": "cw2_racetrack_modified_comparison_graphs",
     "locked": false,
     "points": 0,
     "schema_version": 3,
     "solution": true,
     "task": false
    },
    "scrolled": true
   },
   "outputs": [
    {
     "data": {
      "image/png": "[encoded data removed]",
      "text/plain": [
       "<Figure size 432x288 with 1 Axes>"
      ]
     },
     "metadata": {
      "needs_background": "light"
     },
     "output_type": "display_data"
    }
   ],
   "source": [
    "# Please write your code for Exercise 5b in this cell or in as many cells as you want ABOVE this cell.\n",
    "# You should plot your combined graph here, clearly showing the average learning curves of your\n",
    "# original and modified Q-Learning agents.\n",
    "# Do NOT delete this cell.\n",
    "\n",
    "import matplotlib.pyplot as plt\n",
    "plt.plot(ex3_results, label=\"Q-Learning\")\n",
    "plt.plot(ex5_results, label=\"Q-Learning Improved\")\n",
    "plt.title(f\"Q learning vs Dyna-Q Learning with Reward Based Epsilon Decay. - All averaged over {num_agents} agents\")\n",
    "plt.xlabel(\"Episode Number\")\n",
    "plt.ylabel(\"Undiscounted Return\")\n",
    "plt.legend(loc=4)\n",
    "plt.show()"
   ]
  },
  {
   "cell_type": "markdown",
   "metadata": {
    "deletable": false,
    "editable": false,
    "nbgrader": {
     "cell_type": "markdown",
     "checksum": "c799daeea0c92cddc427e6999f565cc8",
     "grade": false,
     "grade_id": "cell-877eaf5400c160bb",
     "locked": true,
     "schema_version": 3,
     "solution": false,
     "task": false
    }
   },
   "source": [
    "In **eight sentences** or fewer, please discuss the following:\n",
    "- The modifications that you have made to your agent beyond implementing basic Q-Learning.\n",
    "- The effects you expected your additions to have, and the extent to which your expectations were met.\n",
    "- Further modifications you believe may enhance the performance of your agent, or changes you would make if you had more time.\n",
    "\n",
    "Please note that **your implementation and discussion will be assessed jointly**. This means that, in order to score highly, you will need to correctly implement appropriate modifications to your agent **AND** discuss them well."
   ]
  },
  {
   "cell_type": "markdown",
   "metadata": {
    "deletable": false,
    "nbgrader": {
     "cell_type": "markdown",
     "checksum": "d551f610d93a77f39c934084a9eacbb9",
     "grade": true,
     "grade_id": "cw2_racetrack_modified_discussion",
     "locked": false,
     "points": 16,
     "schema_version": 3,
     "solution": true,
     "task": false
    }
   },
   "source": [
    "In my improved Q-Learning approach, I implemented a combination of Dyna-Q learning and reward-based epsilon decay, where the latter reduces exploration over time and in turn, encourages the agent to act more greedily based on information it has since learnt. In my implementation, the rate of decay is based off various factors including a decay rate to multiply epsilon by after each episode, a reward threshold which must be met before starting decay, and a reward increment which increases the reward threshold over time. The more negative discounted reward value in early episodes can be explained by the high starting epsilon value which encourages early learning over exploitation. This epsilon ends up tending towards 0, whereby exploitation of knowledge learnt is exploited and is therefore more representative the optimal policy.\n",
    "\n",
    "Dyna-Q is the implementation of both direct reinforcement learning (what the regular one-step tabular Q-learning does) and model learning, which has the benefit of learning not only from real experience, but also simulated experience. In the model learning phase, we loop n amount of times, randomly picking a state-action pair we have previously explored and update our Q value function with the next state and reward as its prediction.\n",
    "\n",
    "\n",
    "While these methods exceeded all my initial expectations, I would have additionally liked to experiment with implementing prioritised sweeping, whereby instead of sampling randomly from previously experienced state-action pairs, we explore these pairs in order of priority. This method has the obvious benefit of being more efficient, and in general, we prioritise backwards from the terminal goal state (backward focused), as these states have the greatest reward."
   ]
  }
 ],
 "metadata": {
  "kernelspec": {
   "display_name": "Python 3",
   "language": "python",
   "name": "python3"
  },
  "language_info": {
   "codemirror_mode": {
    "name": "ipython",
    "version": 3
   },
   "file_extension": ".py",
   "mimetype": "text/x-python",
   "name": "python",
   "nbconvert_exporter": "python",
   "pygments_lexer": "ipython3",
   "version": "3.8.8"
  }
 },
 "nbformat": 4,
 "nbformat_minor": 2
}
